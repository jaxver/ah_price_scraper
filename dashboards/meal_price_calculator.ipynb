{
 "cells": [
  {
   "cell_type": "markdown",
   "id": "4f44f8a8",
   "metadata": {},
   "source": [
    "# Meal Price Calculator\n",
    "\n",
    "This notebook calculates meal prices based on ingredient costs and a lookup table, and tracks price history for each meal."
   ]
  },
  {
   "cell_type": "code",
   "execution_count": 1,
   "id": "892bf9d2",
   "metadata": {},
   "outputs": [],
   "source": [
    "# 1. Import Required Libraries\n",
    "import pandas as pd\n",
    "import os\n",
    "from datetime import datetime"
   ]
  },
  {
   "cell_type": "code",
   "execution_count": 2,
   "id": "3e1ec887",
   "metadata": {},
   "outputs": [
    {
     "name": "stdout",
     "output_type": "stream",
     "text": [
      "  IngredientID                                  FullName  Current price  \\\n",
      "0       ING001           Zanetti Parmigiano reggiano 30+           4.99   \n",
      "1       ING002                        AH Pecorino romano           6.99   \n",
      "2       ING003  Natuurfarm de Boed Mais-scharreleieren L           3.89   \n",
      "3       ING004        Meester & Zn. Gerookte spekreepjes           3.29   \n",
      "4       ING005                        Heinz Tomato Frito           2.99   \n",
      "\n",
      "   Bonus price  Normal price  \n",
      "0          NaN          4.99  \n",
      "1          NaN          6.99  \n",
      "2          NaN          3.89  \n",
      "3          NaN          3.29  \n",
      "4          NaN          2.99  \n"
     ]
    }
   ],
   "source": [
    "# 2. Load Ingredient Prices Data\n",
    "ingredients_path = '../meal_planning/ingredients.xlsx'\n",
    "ingredients_df = pd.read_excel(ingredients_path)\n",
    "# Ensure columns: IngredientID, Latest price, Bonus price, Normal price\n",
    "for col in ['Bonus price', 'Normal price']:\n",
    "    if col not in ingredients_df.columns:\n",
    "        ingredients_df[col] = None\n",
    "ingredients_df = ingredients_df[['IngredientID', 'FullName','Latest price', 'Bonus price', 'Normal price']].copy()\n",
    "ingredients_df = ingredients_df.rename(columns={'Latest price': 'Current price'})\n",
    "print(ingredients_df.head())"
   ]
  },
  {
   "cell_type": "code",
   "execution_count": 3,
   "id": "02019346",
   "metadata": {},
   "outputs": [
    {
     "name": "stdout",
     "output_type": "stream",
     "text": [
      "  MealID     Gerecht ProductID ProductName IngredientID  Ingredient  Quantity  \\\n",
      "0   M001       Carbo   PROD001  Parmegiano       ING001  Parmegiano      0.33   \n",
      "1   M001       Carbo   PROD002    Pecorino       ING002    Pecorino      0.33   \n",
      "2   M001       Carbo   PROD003          Ei       ING003          Ei      0.33   \n",
      "3   M001       Carbo   PROD004     Spekjes       ING004     Spekjes      1.00   \n",
      "4   M002  Vodkapasta   PROD005       Frito       ING005       Frito      1.00   \n",
      "\n",
      "                                   FullName  \n",
      "0           Zanetti Parmigiano reggiano 30+  \n",
      "1                        AH Pecorino romano  \n",
      "2  Natuurfarm de Boed Mais-scharreleieren L  \n",
      "3        Meester & Zn. Gerookte spekreepjes  \n",
      "4                        Heinz Tomato Frito  \n"
     ]
    }
   ],
   "source": [
    "# 3. Load Meals-Ingredients Lookup Data\n",
    "meals_ingredients_path = '../meal_planning/meals_ingredients.xlsx'\n",
    "meals_ingredients_df = pd.read_excel(meals_ingredients_path)\n",
    "meals_df = pd.read_excel('../meal_planning/meals.xlsx')\n",
    "# Ensure columns: MealID, IngredientID, Quantity\n",
    "meals_ingredients_df = meals_ingredients_df.copy()\n",
    "print(meals_ingredients_df.head())"
   ]
  },
  {
   "cell_type": "code",
   "execution_count": 4,
   "id": "e5d54fe6",
   "metadata": {},
   "outputs": [
    {
     "name": "stdout",
     "output_type": "stream",
     "text": [
      "Meal price history recalculated and saved to ../meal_planning/meal_prices_history.xlsx\n"
     ]
    }
   ],
   "source": [
    "# 4. Recalculate Meal Price History for Each Week\n",
    "import numpy as np\n",
    "\n",
    "# Load historical ingredient prices (should have columns: IngredientID, Date, WeekNr, Current price, Bonus price, Normal price)\n",
    "ingredients_history_path = '../meal_planning/Ingredients_history.xlsx'\n",
    "ingredients_history_df = pd.read_excel(ingredients_history_path)\n",
    "\n",
    "# Ensure WeekNr is present and correct\n",
    "ingredients_history_df['Date'] = pd.to_datetime(ingredients_history_df['Date'])\n",
    "ingredients_history_df['WeekNr'] = ingredients_history_df['Date'].dt.isocalendar().week\n",
    "\n",
    "# Get all unique weeks\n",
    "all_weeks = np.sort(ingredients_history_df['WeekNr'].unique())\n",
    "\n",
    "# Prepare to collect all weeks' meal prices\n",
    "history_records = []\n",
    "\n",
    "for week in all_weeks:\n",
    "    week_ingredients = ingredients_history_df[ingredients_history_df['WeekNr'] == week].copy()\n",
    "    # Use only the latest price per ingredient for the week\n",
    "    week_ingredients = week_ingredients.sort_values('Date').drop_duplicates('IngredientID', keep='last')\n",
    "    # Prepare columns to match main calculation\n",
    "    week_ingredients = week_ingredients[['IngredientID', 'FullName','Latest price', 'Bonus price', 'Normal price','Date']]\n",
    "    # Merge with meals_ingredients\n",
    "    merged_df = pd.merge(meals_ingredients_df, week_ingredients, on='IngredientID', how='left')\n",
    "    merged_df['IngredientCost_Current'] = (merged_df['Quantity'] * merged_df['Latest price']).astype(float).round(2)\n",
    "    merged_df['IngredientCost_Current'] = merged_df['IngredientCost_Current'].fillna(0)\n",
    "    merged_df['IngredientSavings'] = merged_df.apply(\n",
    "        lambda row: round((row['Normal price'] - row['Latest price']) * row['Quantity'], 2)\n",
    "        if pd.notnull(row['Bonus price']) and pd.notnull(row['Normal price']) and row['Bonus price'] not in [None, 'Not found', 'Error'] and row['Normal price'] not in [None, 'Not found', 'Error']\n",
    "        else 0.00,\n",
    "        axis=1\n",
    "    )\n",
    "    for col in ['Bonus price', 'Normal price']:\n",
    "        merged_df[col] = merged_df[col].where(pd.notnull(merged_df[col]), None)\n",
    "    # For each MealID, ProductID: pick the ingredient variant (IngredientID) with the lowest IngredientCost_Current\n",
    "    if not merged_df.empty:\n",
    "        idx = merged_df.groupby(['MealID', 'ProductID'])['IngredientCost_Current'].idxmin()\n",
    "        cheapest_merged_df = merged_df.loc[idx].copy()\n",
    "    else:\n",
    "        cheapest_merged_df = merged_df.copy()\n",
    "    # List out the ingredients used for each meal (comma separated)\n",
    "    ingredient_names_col = 'FullName' if 'FullName' in cheapest_merged_df.columns else 'IngredientID'\n",
    "    if not cheapest_merged_df.empty:\n",
    "        ingredients_used = (\n",
    "            cheapest_merged_df.groupby(['MealID', 'Gerecht'])[ingredient_names_col]\n",
    "            .apply(lambda x: ', '.join(map(str, x)))\n",
    "            .reset_index()\n",
    "            .rename(columns={ingredient_names_col: 'IngredientsUsed'})\n",
    "        )\n",
    "    else:\n",
    "        ingredients_used = pd.DataFrame(columns=['MealID', 'Gerecht', 'IngredientsUsed'])\n",
    "    # Sum for each MealID and Gerecht\n",
    "    if not cheapest_merged_df.empty:\n",
    "        meal_prices = cheapest_merged_df.groupby(['MealID', 'Gerecht'], as_index=False).agg({\n",
    "            'IngredientCost_Current': 'sum',\n",
    "            'IngredientSavings': 'sum'\n",
    "        })\n",
    "    else:\n",
    "        meal_prices = pd.DataFrame(columns=['MealID', 'Gerecht', 'MealPrice_Current', 'Savings abs'])\n",
    "    meal_prices = meal_prices.rename(columns={'IngredientCost_Current': 'MealPrice_Current', 'IngredientSavings': 'Savings abs'})\n",
    "    meal_prices['MealPrice_Current'] = meal_prices['MealPrice_Current'].astype(float).round(2)\n",
    "    meal_prices['Savings abs'] = meal_prices['Savings abs'].astype(float).round(2)\n",
    "    meal_prices['MealPrice_Normal'] = (meal_prices['MealPrice_Current'] + meal_prices['Savings abs']).round(2)\n",
    "    meal_prices['Savings %'] = meal_prices.apply(\n",
    "        lambda row: round((row['Savings abs'] / row['MealPrice_Normal'] * 100), 2) if row['MealPrice_Normal'] > 0 else None,\n",
    "        axis=1\n",
    "    )\n",
    "    if not meal_prices.empty and not ingredients_used.empty:\n",
    "        meal_prices = pd.merge(meal_prices, ingredients_used, on=['MealID', 'Gerecht'], how='left')\n",
    "    else:\n",
    "        meal_prices['IngredientsUsed'] = None\n",
    "    # Join with meals.xlsx to get the 'Porties' (portions) column\n",
    "    meal_prices = pd.merge(meal_prices, meals_df[['MealID', 'Porties']], on='MealID', how='left')\n",
    "    meal_prices['Price_per_portion'] = meal_prices.apply(\n",
    "        lambda row: round(row['MealPrice_Current'] / row['Porties'], 2) if pd.notnull(row['Porties']) and row['Porties'] > 0 else None,\n",
    "        axis=1\n",
    "    )\n",
    "    meal_prices['WeekNr'] = week\n",
    "    # Add the date for the week (use the latest date in the week)\n",
    "    week_date = week_ingredients['Date'].max() if 'Date' in week_ingredients.columns else None\n",
    "    meal_prices['Date'] = week_date.strftime('%d-%m-%Y')\n",
    "    history_records.append(meal_prices)\n",
    "\n",
    "# Concatenate all weeks\n",
    "history_df = pd.concat(history_records, ignore_index=True)\n",
    "\n",
    "# Save to Excel\n",
    "meal_prices_history_path = '../meal_planning/meal_prices_history.xlsx'\n",
    "history_df.to_excel(meal_prices_history_path, index=False)\n",
    "print(f\"Meal price history recalculated and saved to {meal_prices_history_path}\")"
   ]
  }
 ],
 "metadata": {
  "kernelspec": {
   "display_name": "Python 3",
   "language": "python",
   "name": "python3"
  },
  "language_info": {
   "codemirror_mode": {
    "name": "ipython",
    "version": 3
   },
   "file_extension": ".py",
   "mimetype": "text/x-python",
   "name": "python",
   "nbconvert_exporter": "python",
   "pygments_lexer": "ipython3",
   "version": "3.12.9"
  }
 },
 "nbformat": 4,
 "nbformat_minor": 5
}
